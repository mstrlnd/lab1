{
 "cells": [
  {
   "cell_type": "markdown",
   "id": "f858ee34-0505-40a4-81dc-a85deec99838",
   "metadata": {},
   "source": [
    "Lab 1 - Bar Plots (Count Plots)"
   ]
  },
  {
   "cell_type": "markdown",
   "id": "043c227e-c5cc-4009-a24d-32bd02692f93",
   "metadata": {},
   "source": [
    "Loading Data:"
   ]
  },
  {
   "cell_type": "code",
   "execution_count": null,
   "id": "1f56a6b6-e290-45b9-bcf5-39806d9d41d2",
   "metadata": {},
   "outputs": [],
   "source": [
    "#import python libraries for data analysis \n",
    "#I'm for loading data into data frames\n",
    "import pandas as pd \n",
    "#I'm for plotting data\n",
    "import seaborn as sns \n",
    "#I'm also for plotting data\n",
    "import matplotlib.pylab as plt "
   ]
  },
  {
   "cell_type": "code",
   "execution_count": null,
   "id": "8cf87a0c-0744-4501-9da4-ef916129880e",
   "metadata": {},
   "outputs": [],
   "source": [
    "#load data\n",
    "df = pd.read_csv('cdc.csv')\n",
    "#number of rows of data and the number of variables - How many rows are there?  How many variables?\n",
    "df.shape"
   ]
  },
  {
   "cell_type": "code",
   "execution_count": null,
   "id": "ffde42be-eb1f-40b2-9416-041a5062d64c",
   "metadata": {},
   "outputs": [],
   "source": [
    "#preview the first 5 rows of data (some variables might get cut off)\n",
    "df.head()"
   ]
  },
  {
   "cell_type": "code",
   "execution_count": null,
   "id": "402ebc3a-9fad-4408-9bd6-686f07516198",
   "metadata": {},
   "outputs": [],
   "source": [
    "#List all the variables and check the datatypes.  \"object\" is categorical.  \"int64\" and \"float64\" are numerical \n",
    "df.dtypes"
   ]
  },
  {
   "cell_type": "code",
   "execution_count": null,
   "id": "14bdff7e-f2f5-45bc-84fe-0cbac1d09aa2",
   "metadata": {},
   "outputs": [],
   "source": [
    "#See the different categories for a categorial variable\n",
    "df['eat_fruit'].value_counts()"
   ]
  },
  {
   "cell_type": "markdown",
   "id": "47210fc1-2311-4c63-a801-caa282d522a4",
   "metadata": {},
   "source": [
    "Bar Plots - 1 variable"
   ]
  },
  {
   "cell_type": "code",
   "execution_count": null,
   "id": "60ac6d1c-6790-4833-b933-bcbe1720bc75",
   "metadata": {},
   "outputs": [],
   "source": [
    "#How to make a bargraph (vertical)\n",
    "sns.countplot(data=df, x='eat_fruit')"
   ]
  },
  {
   "cell_type": "code",
   "execution_count": null,
   "id": "5aa60caf-35eb-45e0-a9f2-35131b9b0382",
   "metadata": {},
   "outputs": [],
   "source": [
    "#to rotate the labels, you have to save the graph in the variable \"plot\" and then rotate the labels\n",
    "plot = sns.countplot(data=df, x='eat_fruit')\n",
    "plot.set_xticklabels(plot.get_xticklabels(), rotation=75)"
   ]
  },
  {
   "cell_type": "code",
   "execution_count": null,
   "id": "e3de2d31-f7f8-462a-9e43-22117b923e77",
   "metadata": {},
   "outputs": [],
   "source": [
    "#Sort the columns alphabetically by their label \n",
    "#if you make a new plot, change the column name in BOTH places\n",
    "sort_order = df['eat_fruit'].value_counts().index.sort_values()\n",
    "plot = sns.countplot(data=df, x='eat_fruit', order=sort_order)\n",
    "plot.set_xticklabels(plot.get_xticklabels(), rotation=75)"
   ]
  },
  {
   "cell_type": "code",
   "execution_count": null,
   "id": "6a247860-427c-42f4-8ba9-3c7de8d98442",
   "metadata": {},
   "outputs": [],
   "source": [
    "#Sort the columns alphabetically by their label \n",
    "#if you make a new plot, change the column name in BOTH places\n",
    "sort_order = df['eat_fruit'].value_counts().index\n",
    "plot = sns.countplot(data=df, x='eat_fruit', order=sort_order)\n",
    "plot.set_xticklabels(plot.get_xticklabels(), rotation=75)"
   ]
  },
  {
   "cell_type": "code",
   "execution_count": null,
   "id": "06052d53-5fc7-4b4f-85d0-5bfed191fb81",
   "metadata": {},
   "outputs": [],
   "source": [
    "#Sort the columns alphabetically by their label \n",
    "#if you make a new plot, change the column name in BOTH places\n",
    "sort_order = df['eat_fruit'].value_counts(ascending=True).index\n",
    "plot = sns.countplot(data=df, x='eat_fruit', order=sort_order)\n",
    "plot.set_xticklabels(plot.get_xticklabels(), rotation=75)"
   ]
  },
  {
   "cell_type": "code",
   "execution_count": null,
   "id": "760b8287-3a7e-4ff7-ac6d-bd1b1398684f",
   "metadata": {},
   "outputs": [],
   "source": [
    "#How to make a horizontal bargraph\n",
    "sns.countplot(data=df, y='eat_fruit')"
   ]
  },
  {
   "cell_type": "code",
   "execution_count": null,
   "id": "3512670c-e458-4ee2-b9e6-8691f589a59b",
   "metadata": {},
   "outputs": [],
   "source": [
    "#Sort the columns alphabetically by their label \n",
    "#if you make a new plot, change the column name in BOTH places\n",
    "sort_order = df['eat_fruit'].value_counts().index.sort_values()\n",
    "sns.countplot(data=df, y='eat_fruit', order=sort_order)"
   ]
  },
  {
   "cell_type": "code",
   "execution_count": null,
   "id": "8da39c6b-1ea1-41c1-9c89-07c23d09c593",
   "metadata": {},
   "outputs": [],
   "source": [
    "#Sort the columns by count \n",
    "#if you make a new plot, change the column name in BOTH places\n",
    "#label_order = df['eat_fruit'].value_counts().index.sort_values()\n",
    "sort_order = df['eat_fruit'].value_counts().index\n",
    "sns.countplot(data=df, y='eat_fruit', order=sort_order)"
   ]
  },
  {
   "cell_type": "markdown",
   "id": "b31d97cd-bfca-4f1b-b0c3-19eeb61ae8c2",
   "metadata": {},
   "source": [
    "Bar Plots - 2 variables"
   ]
  },
  {
   "cell_type": "code",
   "execution_count": null,
   "id": "af612374-3b23-48a4-8943-e91213c5d544",
   "metadata": {},
   "outputs": [],
   "source": [
    "#How to make a side by side bargraph with the labels rotated\n",
    "#eating fruit broken down by gender\n",
    "plot = sns.countplot(data=df, x='eat_fruit', hue='gender')\n",
    "plot.set_xticklabels(plot.get_xticklabels(), rotation=75)"
   ]
  },
  {
   "cell_type": "code",
   "execution_count": null,
   "id": "766729a4-8064-4068-9505-043a159f635e",
   "metadata": {},
   "outputs": [],
   "source": [
    "#How to make a side by side bargraph with the labels rotated\n",
    "#eating fruit broken down by gender AND labels are in order\n",
    "#if you make a new plot, change the column name in BOTH places\n",
    "label_order = df['eat_fruit'].value_counts().index.sort_values()\n",
    "plot = sns.countplot(data=df, x='eat_fruit', order=label_order, hue='gender')\n",
    "plot.set_xticklabels(plot.get_xticklabels(), rotation=75)"
   ]
  },
  {
   "cell_type": "markdown",
   "id": "724cfa81-353a-4c27-a85a-da0265c01854",
   "metadata": {},
   "source": [
    "Write your code in the box below to investigate your statistical questions:"
   ]
  },
  {
   "cell_type": "code",
   "execution_count": null,
   "id": "a4ac10fe-c736-473f-a06c-4a5ca4a0c23e",
   "metadata": {},
   "outputs": [],
   "source": []
  }
 ],
 "metadata": {
  "kernelspec": {
   "display_name": "Python 3 (ipykernel)",
   "language": "python",
   "name": "python3"
  },
  "language_info": {
   "codemirror_mode": {
    "name": "ipython",
    "version": 3
   },
   "file_extension": ".py",
   "mimetype": "text/x-python",
   "name": "python",
   "nbconvert_exporter": "python",
   "pygments_lexer": "ipython3",
   "version": "3.9.12"
  }
 },
 "nbformat": 4,
 "nbformat_minor": 5
}
